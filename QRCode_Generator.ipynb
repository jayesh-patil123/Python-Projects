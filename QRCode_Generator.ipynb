{
 "cells": [
  {
   "cell_type": "code",
   "execution_count": 1,
   "id": "3dc1723a-d431-453c-883e-0d3c13563bda",
   "metadata": {},
   "outputs": [
    {
     "name": "stdout",
     "output_type": "stream",
     "text": [
      "Collecting qrcode\n",
      "  Downloading qrcode-7.4.2-py3-none-any.whl.metadata (17 kB)\n",
      "Requirement already satisfied: typing-extensions in c:\\users\\om\\anaconda3\\lib\\site-packages (from qrcode) (4.11.0)\n",
      "Collecting pypng (from qrcode)\n",
      "  Downloading pypng-0.20220715.0-py3-none-any.whl.metadata (13 kB)\n",
      "Requirement already satisfied: colorama in c:\\users\\om\\anaconda3\\lib\\site-packages (from qrcode) (0.4.6)\n",
      "Downloading qrcode-7.4.2-py3-none-any.whl (46 kB)\n",
      "   ---------------------------------------- 0.0/46.2 kB ? eta -:--:--\n",
      "   ----------------------------------- ---- 41.0/46.2 kB 2.0 MB/s eta 0:00:01\n",
      "   ---------------------------------------- 46.2/46.2 kB 580.0 kB/s eta 0:00:00\n",
      "Downloading pypng-0.20220715.0-py3-none-any.whl (58 kB)\n",
      "   ---------------------------------------- 0.0/58.1 kB ? eta -:--:--\n",
      "   ---------------------------------------- 58.1/58.1 kB 3.0 MB/s eta 0:00:00\n",
      "Installing collected packages: pypng, qrcode\n",
      "Successfully installed pypng-0.20220715.0 qrcode-7.4.2\n",
      "Note: you may need to restart the kernel to use updated packages.\n"
     ]
    }
   ],
   "source": [
    "pip install qrcode"
   ]
  },
  {
   "cell_type": "code",
   "execution_count": 3,
   "id": "b3a4f178-2529-4687-8876-7a8143c331a9",
   "metadata": {},
   "outputs": [
    {
     "name": "stdout",
     "output_type": "stream",
     "text": [
      "Collecting image\n",
      "  Downloading image-1.5.33.tar.gz (15 kB)\n",
      "  Preparing metadata (setup.py): started\n",
      "  Preparing metadata (setup.py): finished with status 'done'\n",
      "Requirement already satisfied: pillow in c:\\users\\om\\anaconda3\\lib\\site-packages (from image) (10.4.0)\n",
      "Requirement already satisfied: django in c:\\users\\om\\anaconda3\\lib\\site-packages (from image) (4.1)\n",
      "Requirement already satisfied: six in c:\\users\\om\\anaconda3\\lib\\site-packages (from image) (1.16.0)\n",
      "Requirement already satisfied: asgiref<4,>=3.5.2 in c:\\users\\om\\anaconda3\\lib\\site-packages (from django->image) (3.5.2)\n",
      "Requirement already satisfied: sqlparse>=0.2.2 in c:\\users\\om\\anaconda3\\lib\\site-packages (from django->image) (0.4.4)\n",
      "Requirement already satisfied: tzdata in c:\\users\\om\\anaconda3\\lib\\site-packages (from django->image) (2023.3)\n",
      "Building wheels for collected packages: image\n",
      "  Building wheel for image (setup.py): started\n",
      "  Building wheel for image (setup.py): finished with status 'done'\n",
      "  Created wheel for image: filename=image-1.5.33-py2.py3-none-any.whl size=19490 sha256=b891f593852092d954447f3a694a718b7049adafc120343b09c01f688ee9271c\n",
      "  Stored in directory: c:\\users\\om\\appdata\\local\\pip\\cache\\wheels\\62\\40\\4f\\3c9a8d0f22a1a6f966975a460e5cb509a1e7dc42e2ce5d9a6d\n",
      "Successfully built image\n",
      "Installing collected packages: image\n",
      "Successfully installed image-1.5.33\n",
      "Note: you may need to restart the kernel to use updated packages.\n"
     ]
    }
   ],
   "source": [
    "pip install image"
   ]
  },
  {
   "cell_type": "code",
   "execution_count": 7,
   "id": "3c80cee3-19b9-4218-8d4d-871c9982b979",
   "metadata": {},
   "outputs": [],
   "source": [
    "import qrcode\n",
    "import image\n",
    "qr = qrcode.QRCode(\n",
    "    version = 15 , #15 means the version orf the qr code high the number bigger the code image and complicated picture\n",
    "    box_size = 10, #Size of the box where qr code will displayed\n",
    "    border = 5  # it is the white part of image -- border in all 4 side with white color\n",
    ")\n",
    "data = \"https://www.linkedin.com/in/jayesh-patil-a8218324a/\"\n",
    "# As i have been give the parth of  the channel like same way you can give ypour\n",
    "#\n",
    "\n",
    "qr.add_data(data)\n",
    "qr.make(fit = True)\n",
    "img = qr.make_image(fill=\"black\", back_color = \"white\")\n",
    "img.save(\"test.png\")\n",
    "    "
   ]
  },
  {
   "cell_type": "code",
   "execution_count": null,
   "id": "eee17a87-0b0d-46e3-bd00-8ed25849a341",
   "metadata": {},
   "outputs": [],
   "source": []
  }
 ],
 "metadata": {
  "kernelspec": {
   "display_name": "Python 3 (ipykernel)",
   "language": "python",
   "name": "python3"
  },
  "language_info": {
   "codemirror_mode": {
    "name": "ipython",
    "version": 3
   },
   "file_extension": ".py",
   "mimetype": "text/x-python",
   "name": "python",
   "nbconvert_exporter": "python",
   "pygments_lexer": "ipython3",
   "version": "3.11.9"
  }
 },
 "nbformat": 4,
 "nbformat_minor": 5
}
